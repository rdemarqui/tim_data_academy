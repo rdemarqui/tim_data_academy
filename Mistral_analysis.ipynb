{
  "cells": [
    {
      "cell_type": "markdown",
      "metadata": {
        "id": "view-in-github",
        "colab_type": "text"
      },
      "source": [
        "<a href=\"https://colab.research.google.com/github/rdemarqui/sbrc/blob/main/Mistral_analysis.ipynb\" target=\"_parent\"><img src=\"https://colab.research.google.com/assets/colab-badge.svg\" alt=\"Open In Colab\"/></a>"
      ]
    },
    {
      "cell_type": "markdown",
      "source": [
        "# Tagging Customer Feedback with LLM"
      ],
      "metadata": {
        "id": "JdXiJzMm7ewB"
      }
    },
    {
      "cell_type": "markdown",
      "source": [
        "This study aims to explore the advanced LLM tool Mistral 7B to analyze a vast collection of complaints gathered from the website [reclameaqui.com.br](reclameaqui.com.br). Through this analysis, we intend to demonstrate the potential and effectiveness of LLMs in interpreting and handling large-scale user feedback."
      ],
      "metadata": {
        "id": "1Ex4zf24D1-m"
      }
    },
    {
      "cell_type": "markdown",
      "source": [
        "## Complaint Dataset"
      ],
      "metadata": {
        "id": "e_s1QiOU98Rc"
      }
    },
    {
      "cell_type": "markdown",
      "source": [
        "### Load"
      ],
      "metadata": {
        "id": "kZWO80q3-PsC"
      }
    },
    {
      "cell_type": "code",
      "source": [
        "import pandas as pd\n",
        "import numpy as np\n",
        "from sklearn.model_selection import train_test_split\n",
        "import matplotlib.pyplot as plt\n",
        "import seaborn as sns\n",
        "import warnings\n",
        "warnings.filterwarnings(\"ignore\", category=UserWarning)\n",
        "\n",
        "sns.set_theme()"
      ],
      "metadata": {
        "id": "tSvJsvLbHoQp"
      },
      "execution_count": 3,
      "outputs": []
    },
    {
      "cell_type": "code",
      "source": [
        "# Loading data\n",
        "data_url = 'https://raw.githubusercontent.com/rdemarqui/sbrc_2024/main/data/df_validation.xlsx'\n",
        "data = pd.read_excel(data_url, usecols=['problem', 'description'])\n",
        "print(data.shape)"
      ],
      "metadata": {
        "id": "cduSRhNh4VB5",
        "colab": {
          "base_uri": "https://localhost:8080/"
        },
        "outputId": "eab35174-c61c-4776-d783-99088bfa2a6e"
      },
      "execution_count": 4,
      "outputs": [
        {
          "output_type": "stream",
          "name": "stdout",
          "text": [
            "(202, 2)\n"
          ]
        }
      ]
    },
    {
      "cell_type": "markdown",
      "source": [
        "### Clean"
      ],
      "metadata": {
        "id": "pAx7QfsGBLfN"
      }
    },
    {
      "cell_type": "code",
      "source": [
        "# Remove speciac characters, extra space and uncase all words\n",
        "data['description'] = data['description'].astype(str)\n",
        "data['description'] = data['description'].str.replace(r'<', ' ', regex=True)\n",
        "data['description'] = data['description'].str.replace(r'>', ' ', regex=True)\n",
        "data['description'] = data['description'].str.replace(r'#', ' ', regex=True)\n",
        "data['description'] = data['description'].str.replace(r'\\s{2,}', ' ', regex=True)\n",
        "data['description'] = data['description'].str.lower()"
      ],
      "metadata": {
        "id": "UmvxMuJuBOy7"
      },
      "execution_count": 5,
      "outputs": []
    },
    {
      "cell_type": "code",
      "source": [
        "# Modify mask made by reclame aqui\n",
        "def remove_mask(text):\n",
        "  return text.replace(\"[editado pelo reclame aqui]\", \"[mask]\")\n",
        "\n",
        "data['description'] = data['description'].apply(remove_mask)"
      ],
      "metadata": {
        "id": "mSHPHLv0JdLR"
      },
      "execution_count": 6,
      "outputs": []
    },
    {
      "cell_type": "code",
      "source": [
        "# Remove description less than 3 characters\n",
        "data = data[data['description'].str.len() > 3].copy()\n",
        "df = data.copy()"
      ],
      "metadata": {
        "id": "n9DYRkEGdB5L"
      },
      "execution_count": 7,
      "outputs": []
    },
    {
      "cell_type": "markdown",
      "source": [
        "### Analysis"
      ],
      "metadata": {
        "id": "RlSuXm0N-APD"
      }
    },
    {
      "cell_type": "code",
      "source": [
        "# Show each problem category\n",
        "df['problem'].value_counts()"
      ],
      "metadata": {
        "id": "trUhFZEarsl5",
        "colab": {
          "base_uri": "https://localhost:8080/"
        },
        "outputId": "55bb4c6b-76f4-4f9e-cedd-021b9a23b568"
      },
      "execution_count": 8,
      "outputs": [
        {
          "output_type": "execute_result",
          "data": {
            "text/plain": [
              "Consumo de crédito                         15\n",
              "Problema com recarga                       15\n",
              "Cancelamento                               15\n",
              "Instabilidade do sinal                     15\n",
              "Portabilidade                              15\n",
              "Promoções                                  15\n",
              "Demora na execução                         14\n",
              "Cobrança indevida                          14\n",
              "Planos e tarifas                           14\n",
              "Qualidade da internet                      14\n",
              "Mudança de plano                           14\n",
              "Problemas com o chip                       14\n",
              "Corte indevido da linha                    14\n",
              "Mau atendimento do prestador de serviço    14\n",
              "Name: problem, dtype: int64"
            ]
          },
          "metadata": {},
          "execution_count": 8
        }
      ]
    },
    {
      "cell_type": "code",
      "source": [
        "# Show words statistics\n",
        "df['word_count'] = df['description'].str.split().str.len()\n",
        "df['text_len'] = df['description'].str.len()\n",
        "df['word_count'].describe()"
      ],
      "metadata": {
        "id": "G0gvCGaxsuBp",
        "colab": {
          "base_uri": "https://localhost:8080/"
        },
        "outputId": "b48d2779-4ed2-4691-cecb-148c2706206a"
      },
      "execution_count": 9,
      "outputs": [
        {
          "output_type": "execute_result",
          "data": {
            "text/plain": [
              "count    202.000000\n",
              "mean     104.148515\n",
              "std       73.674811\n",
              "min        4.000000\n",
              "25%       48.000000\n",
              "50%       89.000000\n",
              "75%      147.500000\n",
              "max      437.000000\n",
              "Name: word_count, dtype: float64"
            ]
          },
          "metadata": {},
          "execution_count": 9
        }
      ]
    },
    {
      "cell_type": "code",
      "source": [
        "# Check correlation between word count and text lenght\n",
        "chart_joint = sns.jointplot(data=df, x=\"text_len\", y=\"word_count\", height=5)\n",
        "chart_joint.fig.suptitle(\"Correlation between word count and text lenght\")\n",
        "chart_joint.fig.tight_layout()\n",
        "chart_joint.fig.subplots_adjust(top=0.92)"
      ],
      "metadata": {
        "id": "KMrNKNN4vdjj",
        "colab": {
          "base_uri": "https://localhost:8080/",
          "height": 509
        },
        "outputId": "e15a3b5b-82df-428d-a952-32f416132e0d"
      },
      "execution_count": 10,
      "outputs": [
        {
          "output_type": "display_data",
          "data": {
            "text/plain": [
              "<Figure size 500x500 with 3 Axes>"
            ],
            "image/png": "[encoded data removed]"
          },
          "metadata": {}
        }
      ]
    },
    {
      "cell_type": "code",
      "source": [
        "# Check word median per category\n",
        "df.groupby('problem')['word_count'].median()"
      ],
      "metadata": {
        "id": "GoZe2yuG9B4u",
        "colab": {
          "base_uri": "https://localhost:8080/"
        },
        "outputId": "141e1c35-8c74-4d9f-e2f2-9174d8826a39"
      },
      "execution_count": 11,
      "outputs": [
        {
          "output_type": "execute_result",
          "data": {
            "text/plain": [
              "problem\n",
              "Cancelamento                               133.0\n",
              "Cobrança indevida                          157.0\n",
              "Consumo de crédito                          90.0\n",
              "Corte indevido da linha                     64.0\n",
              "Demora na execução                          56.0\n",
              "Instabilidade do sinal                      53.0\n",
              "Mau atendimento do prestador de serviço    110.0\n",
              "Mudança de plano                            99.0\n",
              "Planos e tarifas                            97.5\n",
              "Portabilidade                              100.0\n",
              "Problema com recarga                        54.0\n",
              "Problemas com o chip                       109.0\n",
              "Promoções                                   56.0\n",
              "Qualidade da internet                       60.5\n",
              "Name: word_count, dtype: float64"
            ]
          },
          "metadata": {},
          "execution_count": 11
        }
      ]
    },
    {
      "cell_type": "markdown",
      "source": [
        "## Text Classification"
      ],
      "metadata": {
        "id": "0pWtuhOjN6UU"
      }
    },
    {
      "cell_type": "markdown",
      "source": [
        "### Load Model"
      ],
      "metadata": {
        "id": "ezJirXNkaeVC"
      }
    },
    {
      "cell_type": "markdown",
      "source": [
        "There are several 7B models available as open source, such as Mistral, Falcon, Zephyr, and Openchat. In this study we will use Mistral, but other models can also be tested, just paying attention to adapting the instruction structure."
      ],
      "metadata": {
        "id": "5d_Rtp_pCVpv"
      }
    },
    {
      "cell_type": "code",
      "source": [
        "import time\n",
        "from datetime import timedelta, datetime\n",
        "from google.colab import files\n",
        "from IPython.display import clear_output"
      ],
      "metadata": {
        "id": "Bi0-tycumPr4"
      },
      "execution_count": 12,
      "outputs": []
    },
    {
      "cell_type": "code",
      "source": [
        "# Check nvidia CUDA installed\n",
        "!nvcc -V"
      ],
      "metadata": {
        "id": "jml0jNI1QCs9",
        "outputId": "7c57a349-c16a-4cf4-8e36-de69a46b255a",
        "colab": {
          "base_uri": "https://localhost:8080/"
        }
      },
      "execution_count": 13,
      "outputs": [
        {
          "output_type": "stream",
          "name": "stdout",
          "text": [
            "nvcc: NVIDIA (R) Cuda compiler driver\n",
            "Copyright (c) 2005-2023 NVIDIA Corporation\n",
            "Built on Tue_Aug_15_22:02:13_PDT_2023\n",
            "Cuda compilation tools, release 12.2, V12.2.140\n",
            "Build cuda_12.2.r12.2/compiler.33191640_0\n"
          ]
        }
      ]
    },
    {
      "cell_type": "code",
      "source": [
        "# Install compatible pytorch\n",
        "!pip install torch==2.2.0\n",
        "clear_output()"
      ],
      "metadata": {
        "id": "Hslp1ypaHF-H"
      },
      "execution_count": 14,
      "outputs": []
    },
    {
      "cell_type": "code",
      "source": [
        "# Check pytorch + cuda package installed\n",
        "import torch; print(torch.__version__)"
      ],
      "metadata": {
        "id": "rxOMokgaQpmD",
        "outputId": "1f242c83-3762-42ea-bd0a-2e0f79c1cc41",
        "colab": {
          "base_uri": "https://localhost:8080/"
        }
      },
      "execution_count": 15,
      "outputs": [
        {
          "output_type": "stream",
          "name": "stdout",
          "text": [
            "2.2.0+cu121\n"
          ]
        }
      ]
    },
    {
      "cell_type": "code",
      "source": [
        "!pip3 install --upgrade transformers optimum\n",
        "!pip install auto-gptq\n",
        "clear_output()"
      ],
      "metadata": {
        "id": "hdudzqah8O-R"
      },
      "execution_count": 16,
      "outputs": []
    },
    {
      "cell_type": "code",
      "source": [
        "from transformers import AutoModelForCausalLM, AutoTokenizer, pipeline"
      ],
      "metadata": {
        "id": "gJCc0MNL0D1A"
      },
      "execution_count": 17,
      "outputs": []
    },
    {
      "cell_type": "markdown",
      "source": [
        "We will load the pre-trained Mistral 7B model, quantized by the user TheBloke and available at https://huggingface.co/TheBloke/Mistral-7B-Instruct-v0.2-GPTQ"
      ],
      "metadata": {
        "id": "LNrC6Je7DLJ_"
      }
    },
    {
      "cell_type": "code",
      "source": [
        "# Load LLM and Tokenizer\n",
        "model_id = \"TheBloke/Mistral-7B-Instruct-v0.2-GPTQ\"\n",
        "tokenizer = AutoTokenizer.from_pretrained(model_id, use_fast=True)\n",
        "\n",
        "model = AutoModelForCausalLM.from_pretrained(\n",
        "    model_id,\n",
        "    device_map=\"auto\",\n",
        "    trust_remote_code=False,\n",
        "    revision=\"main\"\n",
        ")"
      ],
      "metadata": {
        "id": "4HxNvdf90D4I",
        "colab": {
          "base_uri": "https://localhost:8080/"
        },
        "outputId": "04b3a7a4-3162-4724-9e42-413ac60f5fd8"
      },
      "execution_count": 18,
      "outputs": [
        {
          "output_type": "stream",
          "name": "stderr",
          "text": [
            "/usr/local/lib/python3.10/dist-packages/transformers/modeling_utils.py:4193: FutureWarning: `_is_quantized_training_enabled` is going to be deprecated in transformers 4.39.0. Please use `model.hf_quantizer.is_trainable` instead\n",
            "  warnings.warn(\n"
          ]
        }
      ]
    },
    {
      "cell_type": "code",
      "source": [
        "# Create a pipeline\n",
        "generator = pipeline(\n",
        "    model=model,\n",
        "    tokenizer=tokenizer,\n",
        "    task='text-generation',\n",
        "    max_new_tokens=60,\n",
        "    temperature=0.05,\n",
        "    do_sample=True,\n",
        "    return_full_text = False,\n",
        "    pad_token_id=tokenizer.eos_token_id\n",
        "                )"
      ],
      "metadata": {
        "id": "aW5V7xEs3Vne"
      },
      "execution_count": 62,
      "outputs": []
    },
    {
      "cell_type": "markdown",
      "source": [
        "### Prompt Engineering"
      ],
      "metadata": {
        "id": "LE5bdD4xai9x"
      }
    },
    {
      "cell_type": "markdown",
      "source": [
        "Prompt Guides:\n",
        "* https://docs.mistral.ai/guides/prompting-capabilities/\n",
        "* https://www.promptingguide.ai/models/mistral-7b\n",
        "* https://huggingface.co/docs/transformers/main/tasks/prompting"
      ],
      "metadata": {
        "id": "xAqjCsmUSkzH"
      }
    },
    {
      "cell_type": "code",
      "source": [
        "# Define tags\n",
        "tags = ['sinal/conexão de rede', 'cobrança indevida', 'consumo saldo/crédito',\n",
        "        'plano/benefício', 'cancelamento linha/plano', 'chip/sim card', 'spam',\n",
        "        'portabilidade', 'recarga/pagamento', 'dificuldade de contato']\n",
        "\n",
        "# Transform tag list in one string\n",
        "tags_comma = \", \".join(f\"{tag}\" for tag in tags)"
      ],
      "metadata": {
        "id": "9-WCnO807zU_"
      },
      "execution_count": 20,
      "outputs": []
    },
    {
      "cell_type": "code",
      "source": [
        "# Examples\n",
        "dialog_dict = {\n",
        "    \"conv1_1t\": [\"Esse plano é ruim!\", \"plano/benefício\"],\n",
        "    \"conv2_1t\": [\"Recebo muitas mensagens de propaganda\", \"spam\"]\n",
        "}"
      ],
      "metadata": {
        "id": "4gJDFLcbD1VO"
      },
      "execution_count": 21,
      "outputs": []
    },
    {
      "cell_type": "code",
      "source": [
        "complaint_text = \"\"\"\n",
        "Reclamação: {user_complain}\n",
        "\"\"\"\n",
        "\n",
        "task = \"\"\"\n",
        "Tarefa: Classifique a reclamação. Atenção use apenas as categorias abaixo.\n",
        "{tags}\n",
        "\n",
        "Importante, apenas classifique sem explicar!\n",
        "\"\"\"\n",
        "answer = \"\"\"\n",
        "Rótulos:\"\"\""
      ],
      "metadata": {
        "id": "1wHWn3uPULbT"
      },
      "execution_count": 22,
      "outputs": []
    },
    {
      "cell_type": "markdown",
      "source": [
        "#### Zero-shot"
      ],
      "metadata": {
        "id": "S_KS0hO40FsZ"
      }
    },
    {
      "cell_type": "code",
      "source": [
        "zero_shot = ('[INST]' + complaint_text\n",
        "             + task.format(tags=tags_comma)\n",
        "             + answer + '[/INST]')\n",
        "print(zero_shot)"
      ],
      "metadata": {
        "id": "_cY844Br0l3S",
        "colab": {
          "base_uri": "https://localhost:8080/"
        },
        "outputId": "11153b04-b45e-4682-ad82-4d8ed7e72c5f"
      },
      "execution_count": 23,
      "outputs": [
        {
          "output_type": "stream",
          "name": "stdout",
          "text": [
            "[INST]\n",
            "Reclamação: {user_complain}\n",
            "\n",
            "Tarefa: Classifique a reclamação. Atenção use apenas as categorias abaixo.\n",
            "sinal/conexão de rede, cobrança indevida, consumo saldo/crédito, plano/benefício, cancelamento linha/plano, chip/sim card, spam, portabilidade, recarga/pagamento, dificuldade de contato\n",
            "\n",
            "Importante, apenas classifique sem explicar!\n",
            "\n",
            "Rótulos:[/INST]\n"
          ]
        }
      ]
    },
    {
      "cell_type": "markdown",
      "source": [
        "#### Few-shot"
      ],
      "metadata": {
        "id": "tmSYu0Tc0Q3C"
      }
    },
    {
      "cell_type": "code",
      "source": [
        "few_examples = \"\"\"\n",
        "###\n",
        "Abaixo alguns exemplos:\n",
        "\n",
        "Reclamação: {ex1}\n",
        "Rótulos: {cat1}\n",
        "Reclamação: {ex2}\n",
        "Rótulos: {cat2}\n",
        "###\n",
        "\"\"\".format(ex1=dialog_dict['conv1_1t'][0], cat1=dialog_dict['conv1_1t'][1],\n",
        "           ex2=dialog_dict['conv2_1t'][0], cat2=dialog_dict['conv2_1t'][1])"
      ],
      "metadata": {
        "id": "v6t13ucbGI5c"
      },
      "execution_count": 24,
      "outputs": []
    },
    {
      "cell_type": "code",
      "source": [
        "few_shot = (\n",
        "    '[INST]'\n",
        "    + complaint_text + task.format(tags=tags_comma)\n",
        "    + few_examples + answer\n",
        "    + '[/INST]')\n",
        "\n",
        "print(few_shot)"
      ],
      "metadata": {
        "colab": {
          "base_uri": "https://localhost:8080/"
        },
        "id": "CLaiOkHVXutp",
        "outputId": "13e203ca-88d9-4d03-9cb7-e420a043e5d6"
      },
      "execution_count": 25,
      "outputs": [
        {
          "output_type": "stream",
          "name": "stdout",
          "text": [
            "[INST]\n",
            "Reclamação: {user_complain}\n",
            "\n",
            "Tarefa: Classifique a reclamação. Atenção use apenas as categorias abaixo.\n",
            "sinal/conexão de rede, cobrança indevida, consumo saldo/crédito, plano/benefício, cancelamento linha/plano, chip/sim card, spam, portabilidade, recarga/pagamento, dificuldade de contato\n",
            "\n",
            "Importante, apenas classifique sem explicar!\n",
            "\n",
            "###\n",
            "Abaixo alguns exemplos:\n",
            "\n",
            "Reclamação: Esse plano é ruim!\n",
            "Rótulos: plano/benefício\n",
            "Reclamação: Recebo muitas mensagens de propaganda\n",
            "Rótulos: spam\n",
            "###\n",
            "\n",
            "Rótulos:[/INST]\n"
          ]
        }
      ]
    },
    {
      "cell_type": "markdown",
      "source": [
        "#### Multi-turn conversation"
      ],
      "metadata": {
        "id": "wXHHNdh80fJS"
      }
    },
    {
      "cell_type": "code",
      "source": [
        "conv = \"\"\"<s>[INST]\n",
        "Reclamação: {user_complain}\n",
        "\n",
        "Tarefa: Classifique a reclamação. Atenção use apenas as categorias abaixo.\n",
        "{tags}\n",
        "\n",
        "Importante, apenas classifique sem explicar!\n",
        "\n",
        "Rótulos:[/INST] {answer}\n",
        "</s>\n",
        "\"\"\"\n",
        "conv_1 = conv.format(user_complain=dialog_dict['conv1_1t'][0],\n",
        "                     tags=tags_comma,\n",
        "                     answer=dialog_dict['conv1_1t'][1])\n",
        "conv_2 = conv.format(user_complain=dialog_dict['conv2_1t'][0],\n",
        "                     tags=tags_comma,\n",
        "                     answer=dialog_dict['conv2_1t'][1])"
      ],
      "metadata": {
        "id": "G3sJFfGaoLeE"
      },
      "execution_count": 26,
      "outputs": []
    },
    {
      "cell_type": "code",
      "source": [
        "multi_turn = (conv_1 + conv_2 + zero_shot)\n",
        "print(multi_turn)"
      ],
      "metadata": {
        "colab": {
          "base_uri": "https://localhost:8080/"
        },
        "id": "rxd8AMoPpGTi",
        "outputId": "999c5aae-877b-4ecf-b9ac-798c46807641"
      },
      "execution_count": 27,
      "outputs": [
        {
          "output_type": "stream",
          "name": "stdout",
          "text": [
            "<s>[INST]\n",
            "Reclamação: Esse plano é ruim!\n",
            "\n",
            "Tarefa: Classifique a reclamação. Atenção use apenas as categorias abaixo.\n",
            "sinal/conexão de rede, cobrança indevida, consumo saldo/crédito, plano/benefício, cancelamento linha/plano, chip/sim card, spam, portabilidade, recarga/pagamento, dificuldade de contato\n",
            "\n",
            "Importante, apenas classifique sem explicar!\n",
            "\n",
            "Rótulos:[/INST] plano/benefício\n",
            "</s>\n",
            "<s>[INST]\n",
            "Reclamação: Recebo muitas mensagens de propaganda\n",
            "\n",
            "Tarefa: Classifique a reclamação. Atenção use apenas as categorias abaixo.\n",
            "sinal/conexão de rede, cobrança indevida, consumo saldo/crédito, plano/benefício, cancelamento linha/plano, chip/sim card, spam, portabilidade, recarga/pagamento, dificuldade de contato\n",
            "\n",
            "Importante, apenas classifique sem explicar!\n",
            "\n",
            "Rótulos:[/INST] spam\n",
            "</s>\n",
            "[INST]\n",
            "Reclamação: {user_complain}\n",
            "\n",
            "Tarefa: Classifique a reclamação. Atenção use apenas as categorias abaixo.\n",
            "sinal/conexão de rede, cobrança indevida, consumo saldo/crédito, plano/benefício, cancelamento linha/plano, chip/sim card, spam, portabilidade, recarga/pagamento, dificuldade de contato\n",
            "\n",
            "Importante, apenas classifique sem explicar!\n",
            "\n",
            "Rótulos:[/INST]\n"
          ]
        }
      ]
    },
    {
      "cell_type": "markdown",
      "source": [
        "#### Prompt test"
      ],
      "metadata": {
        "id": "9H0ViCXtLZds"
      }
    },
    {
      "cell_type": "code",
      "source": [
        "# Print each prompt (check)\n",
        "prompt_dict = {'zero_shot': zero_shot, 'few_shot': few_shot, 'multi_turn': multi_turn}"
      ],
      "metadata": {
        "id": "xSVo4EWqgzL-"
      },
      "execution_count": 28,
      "outputs": []
    },
    {
      "cell_type": "code",
      "source": [
        "def llm_analysis(prompt, complain):\n",
        "  response = generator(prompt.format(user_complain=complain))\n",
        "  llm_classification = response[0]['generated_text'].replace('.', '').lower().split('\\n')[0]\n",
        "  return llm_classification"
      ],
      "metadata": {
        "id": "rLWWtjhppGl0"
      },
      "execution_count": 32,
      "outputs": []
    },
    {
      "cell_type": "code",
      "source": [
        "def iterate_over_interval(df, column, prompt, limit_char, start_row, end_row, save):\n",
        "  start_time = time.time()\n",
        "\n",
        "  for nloop, index in enumerate(range(start_row, end_row)):\n",
        "    complaint_content = str(df.loc[index, column]).lower()\n",
        "\n",
        "    # Checkpoint\n",
        "    if (nloop + 1) % 100 == 0:\n",
        "      delta_time = str(timedelta(seconds=time.time() - start_time)).split('.')[0]\n",
        "      print(f\"{delta_time} Analysis number {nloop + 1}\")\n",
        "\n",
        "    # Limit text lengh\n",
        "    if len(complaint_content) > limit_char: complaint_content = complaint_content[:limit_char]+'\\n'\n",
        "\n",
        "    #print(prompt.format(user_complain=complaint_content))  # check prompt\n",
        "\n",
        "    # Text analysis\n",
        "    analysis = llm_analysis(prompt, complaint_content)\n",
        "    df.at[index, 'llm_class'] = analysis\n",
        "\n",
        "  # Save final result\n",
        "  delta_time = str(timedelta(seconds=time.time() - start_time)).split('.')[0]\n",
        "  print(f\"{nloop + 1} cases analyzed. Total execution time: {delta_time}\")\n",
        "\n",
        "  if save == True:\n",
        "    current_datetime = datetime.now().strftime(\"%Y%m%d_%H%M%S\")\n",
        "    file_name = 'analise_reclamacao_' + str(start_row) + '_' + str(end_row) + current_datetime + '.xlsx'\n",
        "    df.to_excel(file_name, index=False)\n",
        "\n",
        "  return df, file_name if save == True else df"
      ],
      "metadata": {
        "id": "Wr9kWm_8lU-j"
      },
      "execution_count": 30,
      "outputs": []
    },
    {
      "cell_type": "code",
      "source": [
        "# Run the example few times to see model consistency\n",
        "example =\"\"\"como sempre, atendimento da claro vago e sem nenhuma solução. estou a uma semana sem serviço na minha linha,\n",
        "tentando falar na central e só fico presa na ura ou não consigo chegar a lugar algum. detalhe que tudo isso\n",
        "precisa ser feito de outro celular já que não tenho sinal!!!!!!!!!!!!!não é a primeira vez que fico sem sinal\n",
        "esse ano pelo chip virtual e que sou impactada em trabalho e já estou nisso a 1 semana. a resposta da central\n",
        "foi: vá até uma loja física. eu tenho um chip virtual, qual o sentido de ir a uma loja física olhar um chip\n",
        "virtual que o supervisor que consegui falar nem sabia do que se tratava???? fora que minha [ultima ida a loja\n",
        "fisica fui cobrada por um chip dependente indevido que colocaram na minha conta e que nunca recebi reembolso.segue\n",
        "protocolo:*******070quero saber qual o desconto que terei em fatura nesses dias sem serviço e não tenho\n",
        "disponibilidade para ir a loja física por isso adquiri um chip virtual pela facilidade (que não existe do lado\n",
        "de vocês) nesse processo.a qualidade do serviço é cada dia pior e eu ainda me pergunto pq sou cliente de vocës.\n",
        "\"\"\".lower()\n",
        "\n",
        "for prompt in prompt_dict:\n",
        "  print('\\n - ', prompt)\n",
        "  for i in list(range(1, 4)):\n",
        "    analysis = llm_analysis(prompt_dict[prompt], example)\n",
        "    print(analysis)"
      ],
      "metadata": {
        "id": "YZjd_eAWdFVS",
        "colab": {
          "base_uri": "https://localhost:8080/"
        },
        "outputId": "ffab78e8-9fb6-4358-a2d9-5bf7512e1463"
      },
      "execution_count": 33,
      "outputs": [
        {
          "output_type": "stream",
          "name": "stdout",
          "text": [
            "\n",
            " -  zero_shot\n",
            " sinal/conexão de rede, cobrança indevida, dificuldade de contato\n",
            " sinal/conexão de rede, cobrança indevida\n",
            " sinal/conexão de rede, cobrança indevida\n",
            "\n",
            " -  few_shot\n",
            " sinal/conexão de rede, dificuldade de contato\n",
            " sinal/conexão de rede, dificuldade de contato\n",
            " sinal/conexão de rede, dificuldade de contato\n",
            "\n",
            " -  multi_turn\n",
            " sinal/conexão de rede, dificuldade de contato\n",
            " sinal/conexão de rede, dificuldade de contato\n",
            " sinal/conexão de rede, dificuldade de contato\n"
          ]
        }
      ]
    },
    {
      "cell_type": "markdown",
      "source": [
        "### Multi-label Evaluation"
      ],
      "metadata": {
        "id": "JauKAKmspRHH"
      }
    },
    {
      "cell_type": "markdown",
      "source": [
        "In this section we will evaluate our prompt. To do that we labaled mannualy the **df_val** dataframe to use as comparision with model output.\n",
        "\n",
        "There are a few metrics to evaluate multi-label classification, in this work we gonna use `classification_report`from `sklearn`, that is a well known package wich give us manny metrics to analyse. If you you want to know more about it, there's a good article made by Aniruddha Karajgi, on https://towardsdatascience.com/evaluating-multi-label-classifiers-a31be83da6ea."
      ],
      "metadata": {
        "id": "p9brvCeTplPg"
      }
    },
    {
      "cell_type": "code",
      "source": [
        "from sklearn.metrics import classification_report"
      ],
      "metadata": {
        "id": "ar_auDgfT9G_"
      },
      "execution_count": 34,
      "outputs": []
    },
    {
      "cell_type": "code",
      "source": [
        "# Creates binary classification columns and sum total classifications\n",
        "def binary_cols(dataframe, column, tags):\n",
        "  for tag in tags:\n",
        "      dataframe[tag] = dataframe[column].apply(lambda x: 1 if tag in x else 0)\n",
        "\n",
        "  dataframe[column + '_sum'] = dataframe[tags].sum(axis=1)"
      ],
      "metadata": {
        "id": "JNtkFEZ06aJl"
      },
      "execution_count": 35,
      "outputs": []
    },
    {
      "cell_type": "markdown",
      "source": [
        "**Note:** Depending on the amount of data, the classification process can take a few hours. Using the quantized model described above, with zero shot prompt and utilizing the free tier infrastructure of Colab, I noticed that Mistral 7B takes about an hour to classify 2.000 cases.\n",
        "\n",
        "Colab tends to disconnect due to inactivity. To prevent this, open your browser's inspector, go to the console tab, paste the code below, and press enter.\n",
        "\n",
        "`function ClickConnect(){\n",
        "    console.log(\"Working\");\n",
        "    document.querySelector(\"colab-connect-button\").click()\n",
        "}\n",
        "setInterval(ClickConnect,60000)`"
      ],
      "metadata": {
        "id": "ZERNC0giOUZJ"
      }
    },
    {
      "cell_type": "code",
      "source": [
        "# Open validation dataset tagged manually\n",
        "df_val_url = 'https://raw.githubusercontent.com/rdemarqui/sbrc_2024/main/data/df_validation.xlsx'\n",
        "df_val_labeled = pd.read_excel(df_val_url)"
      ],
      "metadata": {
        "id": "l8ToURtgqPRI"
      },
      "execution_count": 36,
      "outputs": []
    },
    {
      "cell_type": "code",
      "source": [
        "# Check each prompt performance\n",
        "y_expected = df_val_labeled[tags]\n",
        "score_dict = {}\n",
        "file_name_dict = {}\n",
        "\n",
        "for prompt in prompt_dict:\n",
        "  print(\"\\n- \", prompt)\n",
        "  temp_df, file_name = iterate_over_interval(df=df, column=\"description\",\n",
        "                                             prompt=prompt_dict[prompt],\n",
        "                                             limit_char=2000, start_row=0,\n",
        "                                             end_row=202, save=True)\n",
        "\n",
        "  binary_cols(dataframe=temp_df, column='llm_class', tags=tags)\n",
        "\n",
        "  y_pred = temp_df[tags]\n",
        "\n",
        "  score_dict[prompt] = classification_report(y_expected, y_pred,\n",
        "                                             output_dict=True,\n",
        "                                             target_names=tags)\n",
        "  file_name_dict[prompt] = file_name"
      ],
      "metadata": {
        "id": "bCR1jNbTJTu4",
        "colab": {
          "base_uri": "https://localhost:8080/"
        },
        "outputId": "87be9362-44f7-49df-fed3-388a3bcd8765"
      },
      "execution_count": 37,
      "outputs": [
        {
          "output_type": "stream",
          "name": "stdout",
          "text": [
            "\n",
            "-  zero_shot\n",
            "0:01:46 Analysis number 100\n",
            "0:03:27 Analysis number 200\n",
            "202 cases analyzed. Total execution time: 0:03:31\n",
            "\n",
            "-  few_shot\n",
            "0:02:44 Analysis number 100\n",
            "0:05:02 Analysis number 200\n",
            "202 cases analyzed. Total execution time: 0:05:05\n",
            "\n",
            "-  multi_turn\n",
            "0:04:17 Analysis number 100\n",
            "0:08:36 Analysis number 200\n",
            "202 cases analyzed. Total execution time: 0:08:45\n"
          ]
        }
      ]
    },
    {
      "cell_type": "markdown",
      "source": [
        "There's some ways to agregate metrics such as `micro average`, `macro avarage`, `weighted average` and `samples average`. In this study we gonna use `samples avg`, wich was specifically designed for multilabel scenarios. It calculates metrics like precision, recall, and F1-score for each instance individually and averages them, thus effectively evaluating the model's performance on each sample by considering all its labels, making it particularly useful for assessing how well the model predicts the label set for each individual sample."
      ],
      "metadata": {
        "id": "58JTqQxPrBlt"
      }
    },
    {
      "cell_type": "code",
      "source": [
        "# Create score comparison table\n",
        "df_score_comparison = pd.DataFrame()\n",
        "\n",
        "for prompt in prompt_dict:\n",
        "  score_temp = score_dict[prompt]['samples avg']\n",
        "  df_temp = pd.DataFrame(score_temp, index=[prompt])\n",
        "  df_score_comparison = pd.concat([df_score_comparison, df_temp])\n",
        "\n",
        "round(df_score_comparison, 4)"
      ],
      "metadata": {
        "id": "oxLYxxWZv0ME",
        "colab": {
          "base_uri": "https://localhost:8080/",
          "height": 143
        },
        "outputId": "345d963e-ed0c-425d-cd45-34c9336c82bf"
      },
      "execution_count": 38,
      "outputs": [
        {
          "output_type": "execute_result",
          "data": {
            "text/plain": [
              "            precision  recall  f1-score  support\n",
              "zero_shot      0.6423  0.7066    0.6350      301\n",
              "few_shot       0.6535  0.7092    0.6416      301\n",
              "multi_turn     0.6927  0.7124    0.6682      301"
            ],
            "text/html": [
              "\n",
              "  <div id=\"df-b6bae1e2-84ea-4530-9c64-ed5a7f488cf9\" class=\"colab-df-container\">\n",
              "    <div>\n",
              "<style scoped>\n",
              "    .dataframe tbody tr th:only-of-type {\n",
              "        vertical-align: middle;\n",
              "    }\n",
              "\n",
              "    .dataframe tbody tr th {\n",
              "        vertical-align: top;\n",
              "    }\n",
              "\n",
              "    .dataframe thead th {\n",
              "        text-align: right;\n",
              "    }\n",
              "</style>\n",
              "<table border=\"1\" class=\"dataframe\">\n",
              "  <thead>\n",
              "    <tr style=\"text-align: right;\">\n",
              "      <th></th>\n",
              "      <th>precision</th>\n",
              "      <th>recall</th>\n",
              "      <th>f1-score</th>\n",
              "      <th>support</th>\n",
              "    </tr>\n",
              "  </thead>\n",
              "  <tbody>\n",
              "    <tr>\n",
              "      <th>zero_shot</th>\n",
              "      <td>0.6423</td>\n",
              "      <td>0.7066</td>\n",
              "      <td>0.6350</td>\n",
              "      <td>301</td>\n",
              "    </tr>\n",
              "    <tr>\n",
              "      <th>few_shot</th>\n",
              "      <td>0.6535</td>\n",
              "      <td>0.7092</td>\n",
              "      <td>0.6416</td>\n",
              "      <td>301</td>\n",
              "    </tr>\n",
              "    <tr>\n",
              "      <th>multi_turn</th>\n",
              "      <td>0.6927</td>\n",
              "      <td>0.7124</td>\n",
              "      <td>0.6682</td>\n",
              "      <td>301</td>\n",
              "    </tr>\n",
              "  </tbody>\n",
              "</table>\n",
              "</div>\n",
              "    <div class=\"colab-df-buttons\">\n",
              "\n",
              "  <div class=\"colab-df-container\">\n",
              "    <button class=\"colab-df-convert\" onclick=\"convertToInteractive('df-b6bae1e2-84ea-4530-9c64-ed5a7f488cf9')\"\n",
              "            title=\"Convert this dataframe to an interactive table.\"\n",
              "            style=\"display:none;\">\n",
              "\n",
              "  <svg xmlns=\"http://www.w3.org/2000/svg\" height=\"24px\" viewBox=\"0 -960 960 960\">\n",
              "    <path d=\"M120-120v-720h720v720H120Zm60-500h600v-160H180v160Zm220 220h160v-160H400v160Zm0 220h160v-160H400v160ZM180-400h160v-160H180v160Zm440 0h160v-160H620v160ZM180-180h160v-160H180v160Zm440 0h160v-160H620v160Z\"/>\n",
              "  </svg>\n",
              "    </button>\n",
              "\n",
              "  <style>\n",
              "    .colab-df-container {\n",
              "      display:flex;\n",
              "      gap: 12px;\n",
              "    }\n",
              "\n",
              "    .colab-df-convert {\n",
              "      background-color: #E8F0FE;\n",
              "      border: none;\n",
              "      border-radius: 50%;\n",
              "      cursor: pointer;\n",
              "      display: none;\n",
              "      fill: #1967D2;\n",
              "      height: 32px;\n",
              "      padding: 0 0 0 0;\n",
              "      width: 32px;\n",
              "    }\n",
              "\n",
              "    .colab-df-convert:hover {\n",
              "      background-color: #E2EBFA;\n",
              "      box-shadow: 0px 1px 2px rgba(60, 64, 67, 0.3), 0px 1px 3px 1px rgba(60, 64, 67, 0.15);\n",
              "      fill: #174EA6;\n",
              "    }\n",
              "\n",
              "    .colab-df-buttons div {\n",
              "      margin-bottom: 4px;\n",
              "    }\n",
              "\n",
              "    [theme=dark] .colab-df-convert {\n",
              "      background-color: #3B4455;\n",
              "      fill: #D2E3FC;\n",
              "    }\n",
              "\n",
              "    [theme=dark] .colab-df-convert:hover {\n",
              "      background-color: #434B5C;\n",
              "      box-shadow: 0px 1px 3px 1px rgba(0, 0, 0, 0.15);\n",
              "      filter: drop-shadow(0px 1px 2px rgba(0, 0, 0, 0.3));\n",
              "      fill: #FFFFFF;\n",
              "    }\n",
              "  </style>\n",
              "\n",
              "    <script>\n",
              "      const buttonEl =\n",
              "        document.querySelector('#df-b6bae1e2-84ea-4530-9c64-ed5a7f488cf9 button.colab-df-convert');\n",
              "      buttonEl.style.display =\n",
              "        google.colab.kernel.accessAllowed ? 'block' : 'none';\n",
              "\n",
              "      async function convertToInteractive(key) {\n",
              "        const element = document.querySelector('#df-b6bae1e2-84ea-4530-9c64-ed5a7f488cf9');\n",
              "        const dataTable =\n",
              "          await google.colab.kernel.invokeFunction('convertToInteractive',\n",
              "                                                    [key], {});\n",
              "        if (!dataTable) return;\n",
              "\n",
              "        const docLinkHtml = 'Like what you see? Visit the ' +\n",
              "          '<a target=\"_blank\" href=https://colab.research.google.com/notebooks/data_table.ipynb>data table notebook</a>'\n",
              "          + ' to learn more about interactive tables.';\n",
              "        element.innerHTML = '';\n",
              "        dataTable['output_type'] = 'display_data';\n",
              "        await google.colab.output.renderOutput(dataTable, element);\n",
              "        const docLink = document.createElement('div');\n",
              "        docLink.innerHTML = docLinkHtml;\n",
              "        element.appendChild(docLink);\n",
              "      }\n",
              "    </script>\n",
              "  </div>\n",
              "\n",
              "\n",
              "<div id=\"df-7866ed61-6d53-4621-a1d7-ca307c4253ee\">\n",
              "  <button class=\"colab-df-quickchart\" onclick=\"quickchart('df-7866ed61-6d53-4621-a1d7-ca307c4253ee')\"\n",
              "            title=\"Suggest charts\"\n",
              "            style=\"display:none;\">\n",
              "\n",
              "<svg xmlns=\"http://www.w3.org/2000/svg\" height=\"24px\"viewBox=\"0 0 24 24\"\n",
              "     width=\"24px\">\n",
              "    <g>\n",
              "        <path d=\"M19 3H5c-1.1 0-2 .9-2 2v14c0 1.1.9 2 2 2h14c1.1 0 2-.9 2-2V5c0-1.1-.9-2-2-2zM9 17H7v-7h2v7zm4 0h-2V7h2v10zm4 0h-2v-4h2v4z\"/>\n",
              "    </g>\n",
              "</svg>\n",
              "  </button>\n",
              "\n",
              "<style>\n",
              "  .colab-df-quickchart {\n",
              "      --bg-color: #E8F0FE;\n",
              "      --fill-color: #1967D2;\n",
              "      --hover-bg-color: #E2EBFA;\n",
              "      --hover-fill-color: #174EA6;\n",
              "      --disabled-fill-color: #AAA;\n",
              "      --disabled-bg-color: #DDD;\n",
              "  }\n",
              "\n",
              "  [theme=dark] .colab-df-quickchart {\n",
              "      --bg-color: #3B4455;\n",
              "      --fill-color: #D2E3FC;\n",
              "      --hover-bg-color: #434B5C;\n",
              "      --hover-fill-color: #FFFFFF;\n",
              "      --disabled-bg-color: #3B4455;\n",
              "      --disabled-fill-color: #666;\n",
              "  }\n",
              "\n",
              "  .colab-df-quickchart {\n",
              "    background-color: var(--bg-color);\n",
              "    border: none;\n",
              "    border-radius: 50%;\n",
              "    cursor: pointer;\n",
              "    display: none;\n",
              "    fill: var(--fill-color);\n",
              "    height: 32px;\n",
              "    padding: 0;\n",
              "    width: 32px;\n",
              "  }\n",
              "\n",
              "  .colab-df-quickchart:hover {\n",
              "    background-color: var(--hover-bg-color);\n",
              "    box-shadow: 0 1px 2px rgba(60, 64, 67, 0.3), 0 1px 3px 1px rgba(60, 64, 67, 0.15);\n",
              "    fill: var(--button-hover-fill-color);\n",
              "  }\n",
              "\n",
              "  .colab-df-quickchart-complete:disabled,\n",
              "  .colab-df-quickchart-complete:disabled:hover {\n",
              "    background-color: var(--disabled-bg-color);\n",
              "    fill: var(--disabled-fill-color);\n",
              "    box-shadow: none;\n",
              "  }\n",
              "\n",
              "  .colab-df-spinner {\n",
              "    border: 2px solid var(--fill-color);\n",
              "    border-color: transparent;\n",
              "    border-bottom-color: var(--fill-color);\n",
              "    animation:\n",
              "      spin 1s steps(1) infinite;\n",
              "  }\n",
              "\n",
              "  @keyframes spin {\n",
              "    0% {\n",
              "      border-color: transparent;\n",
              "      border-bottom-color: var(--fill-color);\n",
              "      border-left-color: var(--fill-color);\n",
              "    }\n",
              "    20% {\n",
              "      border-color: transparent;\n",
              "      border-left-color: var(--fill-color);\n",
              "      border-top-color: var(--fill-color);\n",
              "    }\n",
              "    30% {\n",
              "      border-color: transparent;\n",
              "      border-left-color: var(--fill-color);\n",
              "      border-top-color: var(--fill-color);\n",
              "      border-right-color: var(--fill-color);\n",
              "    }\n",
              "    40% {\n",
              "      border-color: transparent;\n",
              "      border-right-color: var(--fill-color);\n",
              "      border-top-color: var(--fill-color);\n",
              "    }\n",
              "    60% {\n",
              "      border-color: transparent;\n",
              "      border-right-color: var(--fill-color);\n",
              "    }\n",
              "    80% {\n",
              "      border-color: transparent;\n",
              "      border-right-color: var(--fill-color);\n",
              "      border-bottom-color: var(--fill-color);\n",
              "    }\n",
              "    90% {\n",
              "      border-color: transparent;\n",
              "      border-bottom-color: var(--fill-color);\n",
              "    }\n",
              "  }\n",
              "</style>\n",
              "\n",
              "  <script>\n",
              "    async function quickchart(key) {\n",
              "      const quickchartButtonEl =\n",
              "        document.querySelector('#' + key + ' button');\n",
              "      quickchartButtonEl.disabled = true;  // To prevent multiple clicks.\n",
              "      quickchartButtonEl.classList.add('colab-df-spinner');\n",
              "      try {\n",
              "        const charts = await google.colab.kernel.invokeFunction(\n",
              "            'suggestCharts', [key], {});\n",
              "      } catch (error) {\n",
              "        console.error('Error during call to suggestCharts:', error);\n",
              "      }\n",
              "      quickchartButtonEl.classList.remove('colab-df-spinner');\n",
              "      quickchartButtonEl.classList.add('colab-df-quickchart-complete');\n",
              "    }\n",
              "    (() => {\n",
              "      let quickchartButtonEl =\n",
              "        document.querySelector('#df-7866ed61-6d53-4621-a1d7-ca307c4253ee button');\n",
              "      quickchartButtonEl.style.display =\n",
              "        google.colab.kernel.accessAllowed ? 'block' : 'none';\n",
              "    })();\n",
              "  </script>\n",
              "</div>\n",
              "    </div>\n",
              "  </div>\n"
            ],
            "application/vnd.google.colaboratory.intrinsic+json": {
              "type": "dataframe",
              "summary": "{\n  \"name\": \"round(df_score_comparison, 4)\",\n  \"rows\": 3,\n  \"fields\": [\n    {\n      \"column\": \"precision\",\n      \"properties\": {\n        \"dtype\": \"number\",\n        \"std\": 0.02646456750701461,\n        \"min\": 0.6423,\n        \"max\": 0.6927,\n        \"num_unique_values\": 3,\n        \"samples\": [\n          0.6423,\n          0.6535,\n          0.6927\n        ],\n        \"semantic_type\": \"\",\n        \"description\": \"\"\n      }\n    },\n    {\n      \"column\": \"recall\",\n      \"properties\": {\n        \"dtype\": \"number\",\n        \"std\": 0.002905167809266802,\n        \"min\": 0.7066,\n        \"max\": 0.7124,\n        \"num_unique_values\": 3,\n        \"samples\": [\n          0.7066,\n          0.7092,\n          0.7124\n        ],\n        \"semantic_type\": \"\",\n        \"description\": \"\"\n      }\n    },\n    {\n      \"column\": \"f1-score\",\n      \"properties\": {\n        \"dtype\": \"number\",\n        \"std\": 0.01757536154203759,\n        \"min\": 0.635,\n        \"max\": 0.6682,\n        \"num_unique_values\": 3,\n        \"samples\": [\n          0.635,\n          0.6416,\n          0.6682\n        ],\n        \"semantic_type\": \"\",\n        \"description\": \"\"\n      }\n    },\n    {\n      \"column\": \"support\",\n      \"properties\": {\n        \"dtype\": \"number\",\n        \"std\": 0,\n        \"min\": 301,\n        \"max\": 301,\n        \"num_unique_values\": 1,\n        \"samples\": [\n          301\n        ],\n        \"semantic_type\": \"\",\n        \"description\": \"\"\n      }\n    }\n  ]\n}"
            }
          },
          "metadata": {},
          "execution_count": 38
        }
      ]
    },
    {
      "cell_type": "markdown",
      "source": [
        "Remembering that:\n",
        "\n",
        "* **Precision:** It is the proportion of positive identifications that were actually correct. A low precision indicates that there were **too many False Positives (FP)**, meaning that the model predicted many instances as positive that were actually negative.\n",
        "\n",
        " $\\frac{\\text{True Positive}}{\\text{Total Predicted Positive}} = \\frac{\\text{True Positive (TP)}}{\\text{True Positive (TP)} + \\text{False Positive (FP)}}$\n",
        "\n",
        "* **Recall:** It is the proportion of actual positives that were identified correctly. A low recall indicates that there were **too many False Negatives (FN)**, meaning that the model failed to identify many actual positive instances.\n",
        "\n",
        " $\\frac{\\text{True Positive}}{\\text{Total Actual Positive}} = \\frac{\\text{True Positive (TP)}}{\\text{True Positive (TP)} + \\text{False Negative (FN)}}$\n",
        "\n",
        "* **F1 Score:** Is the harmonic mean of the precision and recall, bringing a good balance between both.\n",
        "\n",
        " ${\\text{F1}} = 2* \\frac{\\text{Precision * Recall}}{\\text{Precision + Recall}}$\n",
        "\n",
        "In this study we will use the prompt that achived the max F1 score, that represents a good balance between precision and recall."
      ],
      "metadata": {
        "id": "KBREo3Ex-QTW"
      }
    },
    {
      "cell_type": "markdown",
      "source": [
        "## Results"
      ],
      "metadata": {
        "id": "nhuJNcTl-sXZ"
      }
    },
    {
      "cell_type": "code",
      "source": [
        "max_score_prompt = df_score_comparison['f1-score'].idxmax()\n",
        "print(f\"The max score obtained was achived by '{max_score_prompt}' prompt.\")"
      ],
      "metadata": {
        "id": "WXmGFR_OmOlW",
        "colab": {
          "base_uri": "https://localhost:8080/"
        },
        "outputId": "c0ff88c2-1e56-45d7-eba3-3e3d9e309a35"
      },
      "execution_count": 39,
      "outputs": [
        {
          "output_type": "stream",
          "name": "stdout",
          "text": [
            "The max score obtained was achived by 'multi_turn' prompt.\n"
          ]
        }
      ]
    },
    {
      "cell_type": "code",
      "source": [
        "# Check detailed score from choosen prompt\n",
        "round(pd.DataFrame(score_dict[max_score_prompt]).transpose(), 4)"
      ],
      "metadata": {
        "id": "r_dxrDY6_EZ1",
        "colab": {
          "base_uri": "https://localhost:8080/",
          "height": 488
        },
        "outputId": "0e145f13-3a07-46f3-cbc4-a894f9c5098b"
      },
      "execution_count": 40,
      "outputs": [
        {
          "output_type": "execute_result",
          "data": {
            "text/plain": [
              "                          precision  recall  f1-score  support\n",
              "sinal/conexão de rede        0.9524  0.5882    0.7273     34.0\n",
              "cobrança indevida            0.6800  0.7556    0.7158     45.0\n",
              "consumo saldo/crédito        0.5882  0.6250    0.6061     16.0\n",
              "plano/benefício              0.5263  0.5000    0.5128     40.0\n",
              "cancelamento linha/plano     0.5490  0.6667    0.6022     42.0\n",
              "chip/sim card                0.8500  0.5484    0.6667     31.0\n",
              "spam                         0.8333  1.0000    0.9091     10.0\n",
              "portabilidade                0.6429  0.8182    0.7200     22.0\n",
              "recarga/pagamento            0.5094  0.8182    0.6279     33.0\n",
              "dificuldade de contato       0.4571  0.5714    0.5079     28.0\n",
              "micro avg                    0.6154  0.6645    0.6390    301.0\n",
              "macro avg                    0.6589  0.6892    0.6596    301.0\n",
              "weighted avg                 0.6476  0.6645    0.6411    301.0\n",
              "samples avg                  0.6927  0.7124    0.6682    301.0"
            ],
            "text/html": [
              "\n",
              "  <div id=\"df-1eaad654-0ce3-453c-bd2e-9d1a2db9a317\" class=\"colab-df-container\">\n",
              "    <div>\n",
              "<style scoped>\n",
              "    .dataframe tbody tr th:only-of-type {\n",
              "        vertical-align: middle;\n",
              "    }\n",
              "\n",
              "    .dataframe tbody tr th {\n",
              "        vertical-align: top;\n",
              "    }\n",
              "\n",
              "    .dataframe thead th {\n",
              "        text-align: right;\n",
              "    }\n",
              "</style>\n",
              "<table border=\"1\" class=\"dataframe\">\n",
              "  <thead>\n",
              "    <tr style=\"text-align: right;\">\n",
              "      <th></th>\n",
              "      <th>precision</th>\n",
              "      <th>recall</th>\n",
              "      <th>f1-score</th>\n",
              "      <th>support</th>\n",
              "    </tr>\n",
              "  </thead>\n",
              "  <tbody>\n",
              "    <tr>\n",
              "      <th>sinal/conexão de rede</th>\n",
              "      <td>0.9524</td>\n",
              "      <td>0.5882</td>\n",
              "      <td>0.7273</td>\n",
              "      <td>34.0</td>\n",
              "    </tr>\n",
              "    <tr>\n",
              "      <th>cobrança indevida</th>\n",
              "      <td>0.6800</td>\n",
              "      <td>0.7556</td>\n",
              "      <td>0.7158</td>\n",
              "      <td>45.0</td>\n",
              "    </tr>\n",
              "    <tr>\n",
              "      <th>consumo saldo/crédito</th>\n",
              "      <td>0.5882</td>\n",
              "      <td>0.6250</td>\n",
              "      <td>0.6061</td>\n",
              "      <td>16.0</td>\n",
              "    </tr>\n",
              "    <tr>\n",
              "      <th>plano/benefício</th>\n",
              "      <td>0.5263</td>\n",
              "      <td>0.5000</td>\n",
              "      <td>0.5128</td>\n",
              "      <td>40.0</td>\n",
              "    </tr>\n",
              "    <tr>\n",
              "      <th>cancelamento linha/plano</th>\n",
              "      <td>0.5490</td>\n",
              "      <td>0.6667</td>\n",
              "      <td>0.6022</td>\n",
              "      <td>42.0</td>\n",
              "    </tr>\n",
              "    <tr>\n",
              "      <th>chip/sim card</th>\n",
              "      <td>0.8500</td>\n",
              "      <td>0.5484</td>\n",
              "      <td>0.6667</td>\n",
              "      <td>31.0</td>\n",
              "    </tr>\n",
              "    <tr>\n",
              "      <th>spam</th>\n",
              "      <td>0.8333</td>\n",
              "      <td>1.0000</td>\n",
              "      <td>0.9091</td>\n",
              "      <td>10.0</td>\n",
              "    </tr>\n",
              "    <tr>\n",
              "      <th>portabilidade</th>\n",
              "      <td>0.6429</td>\n",
              "      <td>0.8182</td>\n",
              "      <td>0.7200</td>\n",
              "      <td>22.0</td>\n",
              "    </tr>\n",
              "    <tr>\n",
              "      <th>recarga/pagamento</th>\n",
              "      <td>0.5094</td>\n",
              "      <td>0.8182</td>\n",
              "      <td>0.6279</td>\n",
              "      <td>33.0</td>\n",
              "    </tr>\n",
              "    <tr>\n",
              "      <th>dificuldade de contato</th>\n",
              "      <td>0.4571</td>\n",
              "      <td>0.5714</td>\n",
              "      <td>0.5079</td>\n",
              "      <td>28.0</td>\n",
              "    </tr>\n",
              "    <tr>\n",
              "      <th>micro avg</th>\n",
              "      <td>0.6154</td>\n",
              "      <td>0.6645</td>\n",
              "      <td>0.6390</td>\n",
              "      <td>301.0</td>\n",
              "    </tr>\n",
              "    <tr>\n",
              "      <th>macro avg</th>\n",
              "      <td>0.6589</td>\n",
              "      <td>0.6892</td>\n",
              "      <td>0.6596</td>\n",
              "      <td>301.0</td>\n",
              "    </tr>\n",
              "    <tr>\n",
              "      <th>weighted avg</th>\n",
              "      <td>0.6476</td>\n",
              "      <td>0.6645</td>\n",
              "      <td>0.6411</td>\n",
              "      <td>301.0</td>\n",
              "    </tr>\n",
              "    <tr>\n",
              "      <th>samples avg</th>\n",
              "      <td>0.6927</td>\n",
              "      <td>0.7124</td>\n",
              "      <td>0.6682</td>\n",
              "      <td>301.0</td>\n",
              "    </tr>\n",
              "  </tbody>\n",
              "</table>\n",
              "</div>\n",
              "    <div class=\"colab-df-buttons\">\n",
              "\n",
              "  <div class=\"colab-df-container\">\n",
              "    <button class=\"colab-df-convert\" onclick=\"convertToInteractive('df-1eaad654-0ce3-453c-bd2e-9d1a2db9a317')\"\n",
              "            title=\"Convert this dataframe to an interactive table.\"\n",
              "            style=\"display:none;\">\n",
              "\n",
              "  <svg xmlns=\"http://www.w3.org/2000/svg\" height=\"24px\" viewBox=\"0 -960 960 960\">\n",
              "    <path d=\"M120-120v-720h720v720H120Zm60-500h600v-160H180v160Zm220 220h160v-160H400v160Zm0 220h160v-160H400v160ZM180-400h160v-160H180v160Zm440 0h160v-160H620v160ZM180-180h160v-160H180v160Zm440 0h160v-160H620v160Z\"/>\n",
              "  </svg>\n",
              "    </button>\n",
              "\n",
              "  <style>\n",
              "    .colab-df-container {\n",
              "      display:flex;\n",
              "      gap: 12px;\n",
              "    }\n",
              "\n",
              "    .colab-df-convert {\n",
              "      background-color: #E8F0FE;\n",
              "      border: none;\n",
              "      border-radius: 50%;\n",
              "      cursor: pointer;\n",
              "      display: none;\n",
              "      fill: #1967D2;\n",
              "      height: 32px;\n",
              "      padding: 0 0 0 0;\n",
              "      width: 32px;\n",
              "    }\n",
              "\n",
              "    .colab-df-convert:hover {\n",
              "      background-color: #E2EBFA;\n",
              "      box-shadow: 0px 1px 2px rgba(60, 64, 67, 0.3), 0px 1px 3px 1px rgba(60, 64, 67, 0.15);\n",
              "      fill: #174EA6;\n",
              "    }\n",
              "\n",
              "    .colab-df-buttons div {\n",
              "      margin-bottom: 4px;\n",
              "    }\n",
              "\n",
              "    [theme=dark] .colab-df-convert {\n",
              "      background-color: #3B4455;\n",
              "      fill: #D2E3FC;\n",
              "    }\n",
              "\n",
              "    [theme=dark] .colab-df-convert:hover {\n",
              "      background-color: #434B5C;\n",
              "      box-shadow: 0px 1px 3px 1px rgba(0, 0, 0, 0.15);\n",
              "      filter: drop-shadow(0px 1px 2px rgba(0, 0, 0, 0.3));\n",
              "      fill: #FFFFFF;\n",
              "    }\n",
              "  </style>\n",
              "\n",
              "    <script>\n",
              "      const buttonEl =\n",
              "        document.querySelector('#df-1eaad654-0ce3-453c-bd2e-9d1a2db9a317 button.colab-df-convert');\n",
              "      buttonEl.style.display =\n",
              "        google.colab.kernel.accessAllowed ? 'block' : 'none';\n",
              "\n",
              "      async function convertToInteractive(key) {\n",
              "        const element = document.querySelector('#df-1eaad654-0ce3-453c-bd2e-9d1a2db9a317');\n",
              "        const dataTable =\n",
              "          await google.colab.kernel.invokeFunction('convertToInteractive',\n",
              "                                                    [key], {});\n",
              "        if (!dataTable) return;\n",
              "\n",
              "        const docLinkHtml = 'Like what you see? Visit the ' +\n",
              "          '<a target=\"_blank\" href=https://colab.research.google.com/notebooks/data_table.ipynb>data table notebook</a>'\n",
              "          + ' to learn more about interactive tables.';\n",
              "        element.innerHTML = '';\n",
              "        dataTable['output_type'] = 'display_data';\n",
              "        await google.colab.output.renderOutput(dataTable, element);\n",
              "        const docLink = document.createElement('div');\n",
              "        docLink.innerHTML = docLinkHtml;\n",
              "        element.appendChild(docLink);\n",
              "      }\n",
              "    </script>\n",
              "  </div>\n",
              "\n",
              "\n",
              "<div id=\"df-1036ff23-6b7d-4e22-9a01-09c2cce47c71\">\n",
              "  <button class=\"colab-df-quickchart\" onclick=\"quickchart('df-1036ff23-6b7d-4e22-9a01-09c2cce47c71')\"\n",
              "            title=\"Suggest charts\"\n",
              "            style=\"display:none;\">\n",
              "\n",
              "<svg xmlns=\"http://www.w3.org/2000/svg\" height=\"24px\"viewBox=\"0 0 24 24\"\n",
              "     width=\"24px\">\n",
              "    <g>\n",
              "        <path d=\"M19 3H5c-1.1 0-2 .9-2 2v14c0 1.1.9 2 2 2h14c1.1 0 2-.9 2-2V5c0-1.1-.9-2-2-2zM9 17H7v-7h2v7zm4 0h-2V7h2v10zm4 0h-2v-4h2v4z\"/>\n",
              "    </g>\n",
              "</svg>\n",
              "  </button>\n",
              "\n",
              "<style>\n",
              "  .colab-df-quickchart {\n",
              "      --bg-color: #E8F0FE;\n",
              "      --fill-color: #1967D2;\n",
              "      --hover-bg-color: #E2EBFA;\n",
              "      --hover-fill-color: #174EA6;\n",
              "      --disabled-fill-color: #AAA;\n",
              "      --disabled-bg-color: #DDD;\n",
              "  }\n",
              "\n",
              "  [theme=dark] .colab-df-quickchart {\n",
              "      --bg-color: #3B4455;\n",
              "      --fill-color: #D2E3FC;\n",
              "      --hover-bg-color: #434B5C;\n",
              "      --hover-fill-color: #FFFFFF;\n",
              "      --disabled-bg-color: #3B4455;\n",
              "      --disabled-fill-color: #666;\n",
              "  }\n",
              "\n",
              "  .colab-df-quickchart {\n",
              "    background-color: var(--bg-color);\n",
              "    border: none;\n",
              "    border-radius: 50%;\n",
              "    cursor: pointer;\n",
              "    display: none;\n",
              "    fill: var(--fill-color);\n",
              "    height: 32px;\n",
              "    padding: 0;\n",
              "    width: 32px;\n",
              "  }\n",
              "\n",
              "  .colab-df-quickchart:hover {\n",
              "    background-color: var(--hover-bg-color);\n",
              "    box-shadow: 0 1px 2px rgba(60, 64, 67, 0.3), 0 1px 3px 1px rgba(60, 64, 67, 0.15);\n",
              "    fill: var(--button-hover-fill-color);\n",
              "  }\n",
              "\n",
              "  .colab-df-quickchart-complete:disabled,\n",
              "  .colab-df-quickchart-complete:disabled:hover {\n",
              "    background-color: var(--disabled-bg-color);\n",
              "    fill: var(--disabled-fill-color);\n",
              "    box-shadow: none;\n",
              "  }\n",
              "\n",
              "  .colab-df-spinner {\n",
              "    border: 2px solid var(--fill-color);\n",
              "    border-color: transparent;\n",
              "    border-bottom-color: var(--fill-color);\n",
              "    animation:\n",
              "      spin 1s steps(1) infinite;\n",
              "  }\n",
              "\n",
              "  @keyframes spin {\n",
              "    0% {\n",
              "      border-color: transparent;\n",
              "      border-bottom-color: var(--fill-color);\n",
              "      border-left-color: var(--fill-color);\n",
              "    }\n",
              "    20% {\n",
              "      border-color: transparent;\n",
              "      border-left-color: var(--fill-color);\n",
              "      border-top-color: var(--fill-color);\n",
              "    }\n",
              "    30% {\n",
              "      border-color: transparent;\n",
              "      border-left-color: var(--fill-color);\n",
              "      border-top-color: var(--fill-color);\n",
              "      border-right-color: var(--fill-color);\n",
              "    }\n",
              "    40% {\n",
              "      border-color: transparent;\n",
              "      border-right-color: var(--fill-color);\n",
              "      border-top-color: var(--fill-color);\n",
              "    }\n",
              "    60% {\n",
              "      border-color: transparent;\n",
              "      border-right-color: var(--fill-color);\n",
              "    }\n",
              "    80% {\n",
              "      border-color: transparent;\n",
              "      border-right-color: var(--fill-color);\n",
              "      border-bottom-color: var(--fill-color);\n",
              "    }\n",
              "    90% {\n",
              "      border-color: transparent;\n",
              "      border-bottom-color: var(--fill-color);\n",
              "    }\n",
              "  }\n",
              "</style>\n",
              "\n",
              "  <script>\n",
              "    async function quickchart(key) {\n",
              "      const quickchartButtonEl =\n",
              "        document.querySelector('#' + key + ' button');\n",
              "      quickchartButtonEl.disabled = true;  // To prevent multiple clicks.\n",
              "      quickchartButtonEl.classList.add('colab-df-spinner');\n",
              "      try {\n",
              "        const charts = await google.colab.kernel.invokeFunction(\n",
              "            'suggestCharts', [key], {});\n",
              "      } catch (error) {\n",
              "        console.error('Error during call to suggestCharts:', error);\n",
              "      }\n",
              "      quickchartButtonEl.classList.remove('colab-df-spinner');\n",
              "      quickchartButtonEl.classList.add('colab-df-quickchart-complete');\n",
              "    }\n",
              "    (() => {\n",
              "      let quickchartButtonEl =\n",
              "        document.querySelector('#df-1036ff23-6b7d-4e22-9a01-09c2cce47c71 button');\n",
              "      quickchartButtonEl.style.display =\n",
              "        google.colab.kernel.accessAllowed ? 'block' : 'none';\n",
              "    })();\n",
              "  </script>\n",
              "</div>\n",
              "    </div>\n",
              "  </div>\n"
            ],
            "application/vnd.google.colaboratory.intrinsic+json": {
              "type": "dataframe",
              "summary": "{\n  \"name\": \"round(pd\",\n  \"rows\": 14,\n  \"fields\": [\n    {\n      \"column\": \"precision\",\n      \"properties\": {\n        \"dtype\": \"number\",\n        \"std\": 0.13995616032596359,\n        \"min\": 0.4571,\n        \"max\": 0.9524,\n        \"num_unique_values\": 14,\n        \"samples\": [\n          0.4571,\n          0.6589,\n          0.9524\n        ],\n        \"semantic_type\": \"\",\n        \"description\": \"\"\n      }\n    },\n    {\n      \"column\": \"recall\",\n      \"properties\": {\n        \"dtype\": \"number\",\n        \"std\": 0.13018415042538023,\n        \"min\": 0.5,\n        \"max\": 1.0,\n        \"num_unique_values\": 12,\n        \"samples\": [\n          0.6892,\n          0.6645,\n          0.5882\n        ],\n        \"semantic_type\": \"\",\n        \"description\": \"\"\n      }\n    },\n    {\n      \"column\": \"f1-score\",\n      \"properties\": {\n        \"dtype\": \"number\",\n        \"std\": 0.09852326132430869,\n        \"min\": 0.5079,\n        \"max\": 0.9091,\n        \"num_unique_values\": 14,\n        \"samples\": [\n          0.5079,\n          0.6596,\n          0.7273\n        ],\n        \"semantic_type\": \"\",\n        \"description\": \"\"\n      }\n    },\n    {\n      \"column\": \"support\",\n      \"properties\": {\n        \"dtype\": \"number\",\n        \"std\": 127.35036468190967,\n        \"min\": 10.0,\n        \"max\": 301.0,\n        \"num_unique_values\": 11,\n        \"samples\": [\n          31.0,\n          34.0,\n          28.0\n        ],\n        \"semantic_type\": \"\",\n        \"description\": \"\"\n      }\n    }\n  ]\n}"
            }
          },
          "metadata": {},
          "execution_count": 40
        }
      ]
    },
    {
      "cell_type": "markdown",
      "source": [
        "---"
      ],
      "metadata": {
        "id": "fUKGKT7JoNDS"
      }
    },
    {
      "cell_type": "code",
      "source": [
        "report = classification_report(y_expected, y_pred, target_names=tags)\n",
        "print(report)"
      ],
      "metadata": {
        "colab": {
          "base_uri": "https://localhost:8080/"
        },
        "id": "sigbMhFcYBep",
        "outputId": "4d875652-bf5f-4b56-c3f4-704335f7c509"
      },
      "execution_count": 50,
      "outputs": [
        {
          "output_type": "stream",
          "name": "stdout",
          "text": [
            "                          precision    recall  f1-score   support\n",
            "\n",
            "   sinal/conexão de rede       0.95      0.59      0.73        34\n",
            "       cobrança indevida       0.68      0.76      0.72        45\n",
            "   consumo saldo/crédito       0.59      0.62      0.61        16\n",
            "         plano/benefício       0.53      0.50      0.51        40\n",
            "cancelamento linha/plano       0.55      0.67      0.60        42\n",
            "           chip/sim card       0.85      0.55      0.67        31\n",
            "                    spam       0.83      1.00      0.91        10\n",
            "           portabilidade       0.64      0.82      0.72        22\n",
            "       recarga/pagamento       0.51      0.82      0.63        33\n",
            "  dificuldade de contato       0.46      0.57      0.51        28\n",
            "\n",
            "               micro avg       0.62      0.66      0.64       301\n",
            "               macro avg       0.66      0.69      0.66       301\n",
            "            weighted avg       0.65      0.66      0.64       301\n",
            "             samples avg       0.69      0.71      0.67       301\n",
            "\n"
          ]
        }
      ]
    }
  ],
  "metadata": {
    "language_info": {
      "name": "python"
    },
    "orig_nbformat": 4,
    "colab": {
      "provenance": [],
      "toc_visible": true,
      "gpuType": "T4",
      "include_colab_link": true
    },
    "kernelspec": {
      "name": "python3",
      "display_name": "Python 3"
    },
    "accelerator": "GPU"
  },
  "nbformat": 4,
  "nbformat_minor": 0
}